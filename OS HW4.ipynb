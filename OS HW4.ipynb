{
 "cells": [
  {
   "cell_type": "code",
   "execution_count": 1,
   "id": "2399dc0e",
   "metadata": {},
   "outputs": [],
   "source": [
    "import os\n",
    "\n",
    "class Process:\n",
    "    def __init__(self, pid, arrival_time, burst_time):\n",
    "        self.pid = pid\n",
    "        self.arrival_time = arrival_time\n",
    "        self.burst_time = burst_time\n",
    "        self.remaining_time = burst_time\n",
    "        self.start_time = 0\n",
    "        self.finish_time = 0\n",
    "        self.waiting_time = 0\n",
    "        self.turnaround_time = 0\n",
    "        self.executed = False\n"
   ]
  },
  {
   "cell_type": "code",
   "execution_count": 2,
   "id": "2cf4f590",
   "metadata": {},
   "outputs": [],
   "source": [
    "def read_processes_from_file(file_path):\n",
    "    processes = []\n",
    "    with open(file_path, 'r') as file:\n",
    "        for line in file:\n",
    "            if line.strip():\n",
    "                pid, arrival_time, burst_time = map(int, line.split())\n",
    "                processes.append(Process(pid, arrival_time, burst_time))\n",
    "    return processes\n"
   ]
  },
  {
   "cell_type": "code",
   "execution_count": 3,
   "id": "b196f11b",
   "metadata": {},
   "outputs": [],
   "source": [
    "def fcfs_scheduler(processes):\n",
    "    current_time = 0\n",
    "    for process in processes:\n",
    "        if current_time < process.arrival_time:\n",
    "            current_time = process.arrival_time\n",
    "        process.start_time = current_time\n",
    "        process.finish_time = current_time + process.burst_time\n",
    "        process.turnaround_time = process.finish_time - process.arrival_time\n",
    "        process.waiting_time = process.turnaround_time - process.burst_time\n",
    "        current_time = process.finish_time\n"
   ]
  },
  {
   "cell_type": "code",
   "execution_count": 4,
   "id": "dd62d5e4",
   "metadata": {},
   "outputs": [],
   "source": [
    "def sjf_scheduler(processes):\n",
    "    current_time = 0\n",
    "    ready_queue = []\n",
    "    finished_processes = []\n",
    "    processes.sort(key=lambda x: x.arrival_time)\n",
    "\n",
    "    while len(finished_processes) < len(processes):\n",
    "        for process in processes:\n",
    "            if not process.executed and process.arrival_time <= current_time:\n",
    "                ready_queue.append(process)\n",
    "                process.executed = True\n",
    "\n",
    "        ready_queue.sort(key=lambda x: x.burst_time)\n",
    "\n",
    "        if ready_queue:\n",
    "            process = ready_queue.pop(0)\n",
    "            if current_time < process.arrival_time:\n",
    "                current_time = process.arrival_time\n",
    "            process.start_time = current_time\n",
    "            process.finish_time = current_time + process.burst_time\n",
    "            process.turnaround_time = process.finish_time - process.arrival_time\n",
    "            process.waiting_time = process.start_time - process.arrival_time\n",
    "            current_time = process.finish_time\n",
    "            finished_processes.append(process)\n",
    "        else:\n",
    "            next_process = next((p for p in processes if not p.executed), None)\n",
    "            if next_process:\n",
    "                current_time = next_process.arrival_time\n",
    "    return finished_processes\n"
   ]
  },
  {
   "cell_type": "code",
   "execution_count": 5,
   "id": "2108336a",
   "metadata": {},
   "outputs": [],
   "source": [
    "def round_robin_scheduler(processes, quantum):\n",
    "    current_time = 0\n",
    "    ready_queue = processes[:]\n",
    "    finished_processes = []\n",
    "\n",
    "    while ready_queue:\n",
    "        process = ready_queue.pop(0)\n",
    "        if process.remaining_time > quantum:\n",
    "            current_time += quantum\n",
    "            process.remaining_time -= quantum\n",
    "            ready_queue.append(process)\n",
    "        else:\n",
    "            current_time += process.remaining_time\n",
    "            process.remaining_time = 0\n",
    "            process.finish_time = current_time\n",
    "            process.turnaround_time = process.finish_time - process.arrival_time\n",
    "            process.waiting_time = process.turnaround_time - process.burst_time\n",
    "            finished_processes.append(process)\n",
    "    return finished_processes\n"
   ]
  },
  {
   "cell_type": "code",
   "execution_count": 6,
   "id": "16109f2d",
   "metadata": {},
   "outputs": [],
   "source": [
    "def display_results(processes):\n",
    "    total_waiting_time = 0\n",
    "    total_turnaround_time = 0\n",
    "    total_cpu_time = sum(p.burst_time for p in processes)\n",
    "\n",
    "    print(f\"{'Process ID':<10}{'Finish Time':<15}{'Waiting Time':<15}{'Turnaround Time':<15}\")\n",
    "    for process in processes:\n",
    "        print(f\"{process.pid:<10}{process.finish_time:<15}{process.waiting_time:<15}{process.turnaround_time:<15}\")\n",
    "        total_waiting_time += process.waiting_time\n",
    "        total_turnaround_time += process.turnaround_time\n",
    "\n",
    "    cpu_utilization = (total_cpu_time / processes[-1].finish_time) * 100\n",
    "    print(f\"\\nTotal CPU Utilization: {cpu_utilization:.2f}%\")\n",
    "    print(f\"Average Waiting Time: {total_waiting_time / len(processes):.2f}\")\n",
    "    print(f\"Average Turnaround Time: {total_turnaround_time / len(processes):.2f}\")\n"
   ]
  },
  {
   "cell_type": "code",
   "execution_count": 17,
   "id": "a96f3023",
   "metadata": {},
   "outputs": [],
   "source": [
    "def main():\n",
    "    file_path = input(\"Enter the path to the file ( sample_processes.txt): \").strip()\n",
    "    if not os.path.exists(file_path):\n",
    "        print(\"File not found.\")\n",
    "        return\n",
    "\n",
    "    processes = read_processes_from_file(file_path)\n",
    "\n",
    "    print(\"Choose a scheduling algorithm:\")\n",
    "    print(\"1. FCFS (First-Come, First-Served)\")\n",
    "    print(\"2. SJF (Shortest Job First)\")\n",
    "    print(\"3. Round Robin\")\n",
    "\n",
    "    choice = input(\"Enter the number of the algorithm you want to run: \").strip()\n",
    "    if choice == '1':\n",
    "        fcfs_scheduler(processes)\n",
    "        print('\\nFCFS Scheduling Results:')\n",
    "        display_results(processes)\n",
    "    elif choice == '2':\n",
    "        sjf_finished_processes = sjf_scheduler(processes)\n",
    "        print('\\nSJF Scheduling Results:')\n",
    "        display_results(sjf_finished_processes)\n",
    "    elif choice == '3':\n",
    "        quantum = int(input(\"Enter the quantum time (1,2,3, 4, ..etc): \").strip())\n",
    "        rr_finished_processes = round_robin_scheduler(processes, quantum)\n",
    "        print(f'\\nRound Robin Scheduling Results (Quantum = {quantum}):')\n",
    "        display_results(rr_finished_processes)\n",
    "    else:\n",
    "        print(\"Invalid choice. Please choose a valid option (1, 2, or 3).\")\n"
   ]
  },
  {
   "cell_type": "code",
   "execution_count": 36,
   "id": "b0b9203c",
   "metadata": {},
   "outputs": [
    {
     "name": "stdout",
     "output_type": "stream",
     "text": [
      "Enter the path to the file ( sample_processes.txt): sample_processes.txt\n",
      "Choose a scheduling algorithm:\n",
      "1. FCFS (First-Come, First-Served)\n",
      "2. SJF (Shortest Job First)\n",
      "3. Round Robin\n",
      "Enter the number of the algorithm you want to run: 3\n",
      "Enter the quantum time (1,2,3, 4, ..etc): 5\n",
      "\n",
      "Round Robin Scheduling Results (Quantum = 5):\n",
      "Process IDFinish Time    Waiting Time   Turnaround Time\n",
      "2         9              5              9              \n",
      "4         19             11             16             \n",
      "1         22             14             22             \n",
      "3         26             15             24             \n",
      "\n",
      "Total CPU Utilization: 100.00%\n",
      "Average Waiting Time: 11.25\n",
      "Average Turnaround Time: 17.75\n"
     ]
    }
   ],
   "source": [
    "if __name__ == \"__main__\":\n",
    "    main()\n"
   ]
  },
  {
   "cell_type": "code",
   "execution_count": null,
   "id": "e8bf7910",
   "metadata": {},
   "outputs": [],
   "source": []
  },
  {
   "cell_type": "code",
   "execution_count": null,
   "id": "4fca3d98",
   "metadata": {},
   "outputs": [],
   "source": []
  }
 ],
 "metadata": {
  "kernelspec": {
   "display_name": "Python 3 (ipykernel)",
   "language": "python",
   "name": "python3"
  },
  "language_info": {
   "codemirror_mode": {
    "name": "ipython",
    "version": 3
   },
   "file_extension": ".py",
   "mimetype": "text/x-python",
   "name": "python",
   "nbconvert_exporter": "python",
   "pygments_lexer": "ipython3",
   "version": "3.11.7"
  }
 },
 "nbformat": 4,
 "nbformat_minor": 5
}
